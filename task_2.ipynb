{
  "nbformat": 4,
  "nbformat_minor": 0,
  "metadata": {
    "colab": {
      "name": "task_2.ipynb",
      "provenance": [],
      "collapsed_sections": []
    },
    "kernelspec": {
      "name": "python3",
      "display_name": "Python 3"
    },
    "language_info": {
      "name": "python"
    }
  },
  "cells": [
    {
      "cell_type": "markdown",
      "source": [
        "Task2\n",
        "➔Write a program that accepts a sequence of comma separated numbers\n",
        "from user and generates a list and a tuple with those numbers"
      ],
      "metadata": {
        "id": "bNldgUU5ScJE"
      }
    },
    {
      "cell_type": "code",
      "source": [
        "values = input(\"Input some comma seprated numbers : \")\n",
        "list = values.split(\",\")\n",
        "tuple = tuple(list)\n",
        "print('List : ',list)\n",
        "print('Tuple : ',tuple)"
      ],
      "metadata": {
        "colab": {
          "base_uri": "https://localhost:8080/"
        },
        "id": "RVu5WpAjSi5C",
        "outputId": "73c82fe6-65c9-47b1-85e7-db548d0e03ca"
      },
      "execution_count": 2,
      "outputs": [
        {
          "output_type": "stream",
          "name": "stdout",
          "text": [
            "Input some comma seprated numbers : 1,2,3,55,77,88,44,90,0\n",
            "List :  ['1', '2', '3', '55', '77', '88', '44', '90', '0']\n",
            "Tuple :  ('1', '2', '3', '55', '77', '88', '44', '90', '0')\n"
          ]
        }
      ]
    }
  ]
}